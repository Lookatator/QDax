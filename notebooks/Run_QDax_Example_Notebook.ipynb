{
 "cells": [
  {
   "cell_type": "markdown",
   "metadata": {
    "id": "fexj6L1R1uiK"
   },
   "source": [
    "<a href=\"https://colab.research.google.com/github/adaptive-intelligent-robotics/QDax/blob/main/notebooks/Run_QDax_Example_Notebook.ipynb\">\n",
    "  <img src=\"https://colab.research.google.com/assets/colab-badge.svg\" alt=\"Open In Colab\"/>\n",
    "</a>"
   ]
  },
  {
   "cell_type": "markdown",
   "metadata": {
    "id": "pn_V2GU8dnXC"
   },
   "source": [
    "# Accelerated Quality-Diversity with QDax\n",
    "Qdax is a project based on Jax and Brax to accelerate Quality-Diversity algorithms, a family of evolutionary algorithms. This notebook uses Quality-Diversity for Neuroevolution on the Ant task in Brax. "
   ]
  },
  {
   "cell_type": "code",
   "execution_count": null,
   "metadata": {
    "cellView": "form",
    "id": "xW_AX6jGfE2w"
   },
   "outputs": [],
   "source": [
    "#@title Installs and Imports\n",
    "!pip install ipympl |tail -n 1\n",
    "# %matplotlib widget\n",
    "# from google.colab import output\n",
    "# output.enable_custom_widget_manager()\n",
    "import argparse\n",
    "import os\n",
    "import numpy as np\n",
    "from IPython.display import HTML, clear_output\n",
    "import matplotlib.pyplot as plt\n",
    "from absl import logging\n",
    "import functools\n",
    "from typing import Callable, Optional\n",
    "import pickle\n",
    "\n",
    "import jax\n",
    "import jax.numpy as jnp\n",
    "\n",
    "try:\n",
    "    import brax\n",
    "except:\n",
    "  !pip install git+https://github.com/google/brax.git@main |tail -n 1\n",
    "  import brax\n",
    "\n",
    "from brax.envs import wrappers\n",
    "from brax.io import html\n",
    "\n",
    "from brax.envs.env import Env\n",
    "from brax.experimental.composer import register_default_components\n",
    "\n",
    "try:\n",
    "    import qdax\n",
    "except:\n",
    "    !pip install --no-deps git+https://github.com/adaptive-intelligent-robotics/QDax@main |tail -n 1\n",
    "    import qdax\n",
    "\n",
    "from qdax.tasks import BraxTask\n",
    "from qdax.training.configuration import Configuration\n",
    "from qdax.training import qd, emitters\n",
    "from qdax.training.emitters_simple.iso_dd_emitter import iso_dd_emitter, create_iso_dd_fn\n",
    "from qdax.envs.unidirectional_envs import ant, walker, hopper, halfcheetah, humanoid\n",
    "from qdax.envs.omnidirectional_envs import ant as ant_omni\n",
    "from qdax.envs.omnidirectional_envs import humanoid as humanoid_omni\n",
    "    \n",
    "\n",
    "if \"COLAB_TPU_ADDR\" in os.environ:\n",
    "  from jax.tools import colab_tpu\n",
    "  colab_tpu.setup_tpu()\n",
    "\n",
    "\n",
    "QD_PARAMS = dict()\n",
    "\n",
    "register_default_components()\n",
    "clear_output()"
   ]
  },
  {
   "cell_type": "markdown",
   "metadata": {
    "id": "Ld1y4-z2fxlx"
   },
   "source": [
    "#### Quality-Diversity Training Definition"
   ]
  },
  {
   "cell_type": "code",
   "execution_count": null,
   "metadata": {
    "cellView": "form",
    "id": "FrVmPphq-jT-"
   },
   "outputs": [],
   "source": [
    "#@title QD Training Definitions Fields\n",
    "\n",
    "log_level = 'info' #@param [\"info\", \"fatal\", \"error\",\"warning\",\"info\",\"debug\"]\n",
    "batch_size = 1024 #@param {type:\"number\"}\n",
    "env_name = 'ant_omni'#@param['ant', 'hopper', 'walker', 'halfcheetah', 'humanoid', 'ant_omni', 'humanoid_omni']\n",
    "episode_length = 100 #@param {type:\"integer\"}\n",
    "num_epochs = 100 #@param {type:\"integer\"}\n",
    "num_evaluations = None\n",
    "log_frequency = 1 #@param {type:\"integer\"}\n",
    "seed = 42 #@param {type:\"integer\"}\n",
    "grid_shape = [100,100] #@param {type:\"raw\"}\n",
    "min_bd = -15.0 #@param {type:\"number\"}\n",
    "max_bd = 15.0 #@param {type:\"number\"}\n",
    "#@markdown ---\n",
    "#@markdown ### Enter a file path:\n",
    "directory = \"./\" #@param {type:\"string\"}\n",
    "exp_name = \"Notebook_Experiment\" #@param {type:\"string\"}\n",
    "#@markdown ---"
   ]
  },
  {
   "cell_type": "code",
   "execution_count": null,
   "metadata": {
    "cellView": "form",
    "colab": {
     "base_uri": "https://localhost:8080/",
     "height": 182
    },
    "id": "osM_jgd6-jT-",
    "outputId": "fe85016b-8dc5-4a43-fc8a-a6421edeed67"
   },
   "outputs": [],
   "source": [
    "#@title Task Setup with the chosen QD Settings\n",
    "\n",
    "def get_num_epochs_and_evaluations(num_epochs, num_evaluations, population_size):\n",
    "  if num_epochs is not None:\n",
    "    num_evaluations = num_epochs * population_size\n",
    "    return num_epochs, num_evaluations\n",
    "  elif num_evaluations is not None:\n",
    "    num_epochs = (num_evaluations // population_size) + 1\n",
    "    return num_epochs, num_evaluations\n",
    "  else:\n",
    "    raise ValueError(\"One of the 2 following variables should be defined: num_epochs or num_evaluations\")\n",
    "results_saving_folder = directory\n",
    "\n",
    "if not os.path.exists(results_saving_folder):\n",
    "    raise FileNotFoundError(f\"Folder {results_saving_folder} not found.\")\n",
    "\n",
    "levels = {'fatal': logging.FATAL,\n",
    "            'error': logging.ERROR,\n",
    "            'warning': logging.WARNING,\n",
    "            'info': logging.INFO,\n",
    "            'debug': logging.DEBUG}\n",
    "\n",
    "logging.set_verbosity(levels[log_level])\n",
    "\n",
    "population_size = batch_size\n",
    "\n",
    "local_device_count = jax.local_device_count()\n",
    "local_devices_to_use = local_device_count\n",
    "process_count = jax.process_count()\n",
    "\n",
    "brax_task = BraxTask(\n",
    "    env_name=env_name,\n",
    "    episode_length=episode_length,\n",
    "    action_repeat=1,\n",
    "    num_envs=population_size,\n",
    "    local_devices_to_use=local_devices_to_use,\n",
    "    process_count=process_count,\n",
    "  )\n",
    "\n",
    "num_epochs, num_evaluations = get_num_epochs_and_evaluations(num_epochs=num_epochs,\n",
    "                                                               num_evaluations=num_evaluations,\n",
    "                                                               population_size=batch_size)\n",
    "\n",
    "logging.info(f\"Options:\\n\"\n",
    "               f\"\\t Log_level:{log_level}\\n\"\n",
    "               f\"\\t Seed: {seed}\\n\"\n",
    "               f\"\\t Batch_size:{batch_size}\\n\"\n",
    "               f\"\\t Num_epochs:{num_epochs}\\n\"\n",
    "               f\"\\t Num_evaluations:{num_evaluations}\\n\"\n",
    "               f\"\\t Episode_length:{episode_length}\\n\"\n",
    "               f\"\\t Log_frequency:{log_frequency}\\n\")\n",
    "\n",
    "configuration = Configuration(env_name,\n",
    "                                num_epochs,\n",
    "                                episode_length,\n",
    "                                action_repeat=1,\n",
    "                                population_size=batch_size,\n",
    "                                seed=seed,\n",
    "                                log_frequency=log_frequency,\n",
    "                                qd_params=QD_PARAMS,\n",
    "                                min_bd=min_bd,\n",
    "                                max_bd=max_bd,\n",
    "                                grid_shape=tuple(grid_shape),\n",
    "                                max_devices_per_host=None,\n",
    "                                )\n",
    "\n",
    "emitter_fn = emitters.get_emitter_iso_line_dd(\n",
    "    population_size=population_size,\n",
    "    iso_sigma=0.01,\n",
    "    line_sigma=0.1,\n",
    "  )\n",
    "\n",
    "  # emitter_fn = functools.partial(iso_dd_emitter, \n",
    "  #   population_size=population_size, \n",
    "  #   iso_sigma=0.01, \n",
    "  #   line_sigma=0.1)\n",
    "\n",
    "  # emitter_fn = create_iso_dd_fn(\n",
    "  #   population_size=population_size, \n",
    "  #   iso_sigma=0.01, \n",
    "  #   line_sigma=0.1)"
   ]
  },
  {
   "cell_type": "code",
   "execution_count": null,
   "metadata": {
    "colab": {
     "base_uri": "https://localhost:8080/",
     "height": 1000
    },
    "id": "cp79YHRh-jUA",
    "outputId": "83076153-b50e-4901-c43c-8bffdc089cf3"
   },
   "outputs": [],
   "source": [
    "training_state, inference_fn = qd.train(\n",
    "                                    task=brax_task,\n",
    "                                    emitter_fn=emitter_fn,\n",
    "                                    configuration=configuration,\n",
    "                                    progress_fn=None,\n",
    "                                    experiment_name=exp_name,\n",
    "                                    result_path=results_saving_folder,\n",
    "                                  )"
   ]
  },
  {
   "cell_type": "code",
   "execution_count": null,
   "metadata": {
    "cellView": "form",
    "colab": {
     "base_uri": "https://localhost:8080/",
     "height": 90
    },
    "id": "2D4KEdow-jUB",
    "outputId": "64c5434f-1d82-4dd5-9bd6-46408f793bad"
   },
   "outputs": [],
   "source": [
    "#@title Loading the Results\n",
    "#@markdown We load the saved repertoire and the solutions.\n",
    "import glob\n",
    "results = glob.glob(results_saving_folder+exp_name+\"*/*\")[0]\n",
    "with open(results+'/training_state.pkl','rb') as f:\n",
    "    file = pickle.load(f)\n",
    "repertoire = file.repertoire\n",
    "\n",
    "\n",
    "with open(results+'/timings.pkl','rb') as f:\n",
    "    timings = pickle.load(f)\n",
    "print(\"Timings for the QD Training\")\n",
    "print(\"Avergare Epochs per Second\",timings.avg_epoch)\n",
    "print(\"Average Evals Per Second: \",timings.avg_eval_per_sec)\n",
    "print(\"Full Training Time (s): \",timings.full_training)"
   ]
  },
  {
   "cell_type": "markdown",
   "metadata": {
    "id": "OqNqUvxL-jUF"
   },
   "source": [
    "## Visualization"
   ]
  },
  {
   "cell_type": "code",
   "execution_count": null,
   "metadata": {
    "cellView": "form",
    "id": "S9wnaNbw-jUG"
   },
   "outputs": [],
   "source": [
    "#@title Interactive Behavioural Repertoire Visualization\n",
    "global selected_ind,selected_x,selected_y\n",
    "selected_ind = 0\n",
    "selected_x,selected_y = 0,0\n",
    "def bd_interactive(repertoire,use_web=False,high_dim=False):\n",
    "    x_bd = [0,1]\n",
    "    y_bd = [0,1] \n",
    "    fit = [0.2,-1]\n",
    "    \n",
    "    if not high_dim:\n",
    "\n",
    "        mask = jnp.where(~jnp.isnan(repertoire.fitness),1,0)\n",
    "\n",
    "        counter = 0\n",
    "        for r,row in enumerate(mask):\n",
    "            for c,col in enumerate(row):\n",
    "                if col>0:\n",
    "                    x_bd.append(r/(repertoire.grid_shape[0]-1))\n",
    "                    y_bd.append(c/(repertoire.grid_shape[0]-1))\n",
    "                    fit.append(repertoire.fitness[(r,c)]/(jnp.nanmax(repertoire.fitness)))\n",
    "                    counter+=1\n",
    "\n",
    "        bd_archive = [x_bd, y_bd]\n",
    "        # fig, (ax1, ax2) = plt.subplots(1, 2,figsize=(20,10))\n",
    "        fig = plt.figure(figsize=(8,8))\n",
    "        ax = fig.add_subplot(111)\n",
    "        ax.set_xlim([0,1])\n",
    "        ax.set_ylim([0,1])\n",
    "        ax.grid()\n",
    "        im = ax.scatter(bd_archive[0], bd_archive[1],c=fit,s=30,cmap=plt.cm.viridis,marker='s')\n",
    "        im.set_clim(0, 1)\n",
    "        ax.set_aspect(1)\n",
    "        fig.colorbar(im,ax=ax)\n",
    "        text=ax.text(0,0, \"\", va=\"bottom\", ha=\"left\")\n",
    "    else:\n",
    "        archive = repertoire.fitness\n",
    "        resolutions= list(repertoire.grid_shape)#[10,10,10,10]\n",
    "        grid = np.empty((np.prod(resolutions[0::2]),np.prod(resolutions[1::2])))\n",
    "        for row in range(resolutions[0]):\n",
    "            for col in range(resolutions[1]):\n",
    "                space = resolutions[0]\n",
    "                for i in range(space):\n",
    "                    grid[(row*space):(row+1)*space,(col*space):(col+1)*space] = archive[row,col,:,:]\n",
    "\n",
    "        fig=plt.figure(figsize=(8,8))\n",
    "        ax = fig.add_subplot(111)\n",
    "        c = ax.pcolor(grid,vmin=0, vmax=200, edgecolors = None, antialiaseds=True)\n",
    "        fig.colorbar(c, ax=ax)\n",
    "        ax.set_aspect(1)\n",
    "        text=ax.text(0,0, \"\", va=\"bottom\", ha=\"left\")\n",
    "\n",
    "\n",
    "    def visualize(event):\n",
    "        global selected_ind,selected_x,selected_y\n",
    "        tx = 'button=%d, x=%d, y=%d, xdata=%f, ydata=%f' % (event.button, event.x, event.y, event.xdata, event.ydata)\n",
    "        selected_x = int(event.xdata*repertoire.grid_shape[0])\n",
    "        selected_y = int(event.ydata*repertoire.grid_shape[1])\n",
    "        if(high_dim):\n",
    "            resolutions=list(repertoire.grid_shape)\n",
    "            row1 = selected_x//100\n",
    "            col1 = selected_y//100\n",
    "            row2= (selected_x//resolutions[0])%resolutions[2]\n",
    "            col2 = (selected_y//resolutions[1])%resolutions[3]\n",
    "            selected_ind = np.ravel_multi_index((col1,row1,col2,row2),repertoire.grid_shape)\n",
    "            \n",
    "        else:\n",
    "            selected_ind = np.ravel_multi_index((selected_x,selected_y),repertoire.grid_shape)\n",
    "        ax.set_xlabel(\"Selected BD {},{} which is individual nr : {}\".format(selected_x,selected_y,selected_ind))\n",
    "        if(use_web):\n",
    "            html_file = visualize_env(selected_ind)\n",
    "            with tempfile.NamedTemporaryFile('w', delete=False, suffix='.html') as f:\n",
    "                url = 'file://' + f.name\n",
    "                f.write(html_file)\n",
    "            webbrowser.open(url)\n",
    "\n",
    "    cid = fig.canvas.mpl_connect('button_press_event', visualize)\n",
    "    plt.show()\n"
   ]
  },
  {
   "cell_type": "code",
   "execution_count": null,
   "metadata": {
    "id": "3TQpK_ai-jUH"
   },
   "outputs": [],
   "source": [
    "def visualize_env(selected_ind,inference,brax_task):\n",
    "    env = brax_task.generate_env(env_name)\n",
    "    selected_params = jax.tree_map(lambda x: x[selected_ind],repertoire.archive)\n",
    "    fitness = repertoire.fitness.ravel()[selected_ind]\n",
    "    inference_fn = inference\n",
    "    jit_env_reset = jax.jit(env.reset)\n",
    "    jit_env_step = jax.jit(env.step)\n",
    "    jit_inference_fn = jax.jit(inference_fn)\n",
    "    rollout = []\n",
    "    rng = jax.random.PRNGKey(seed=42)\n",
    "    state = jit_env_reset(rng=rng)\n",
    "\n",
    "    done_list=[]\n",
    "    \n",
    "    for _ in range(episode_length):\n",
    "        rollout.append(state)\n",
    "        act_rng, rng = jax.random.split(rng)\n",
    "        act = jit_inference_fn((selected_params), state.obs, act_rng)\n",
    "        state = jit_env_step(state, act)\n",
    "    print(\"Final BD: \", rollout[-1].info['bd'])\n",
    "    print(\"Fitness: {}\".format(fitness))\n",
    "    return html.render(env.sys, [s.qp for s in rollout])\n",
    "    "
   ]
  },
  {
   "cell_type": "code",
   "execution_count": null,
   "metadata": {
    "id": "LbbbQfdL-jUJ"
   },
   "outputs": [],
   "source": [
    "from qdax.training.qd import make_params_and_inference_fn\n",
    "inference_fn = make_params_and_inference_fn(brax_task.core_env.observation_size,brax_task.core_env.action_size)"
   ]
  },
  {
   "cell_type": "markdown",
   "metadata": {
    "id": "PMvlhpQMVDp2"
   },
   "source": [
    "###Select the desired behaviour on the 2D Map and then run the next cell. \n",
    "To visualise one of the solutions from the grid, please select the individual by clicking on it. Once you have clicked on the individual, you will see the Id of the individual on the x-axis title of the plot. You can then run the next cell to see the generated behaviour in HTML format or save it.\n",
    "\n"
   ]
  },
  {
   "cell_type": "code",
   "execution_count": null,
   "metadata": {
    "id": "jhLeJUTR-jUJ"
   },
   "outputs": [],
   "source": [
    "if(env_name=='ant'):\n",
    "  high_dim=True\n",
    "else:\n",
    "  high_dim=False"
   ]
  },
  {
   "cell_type": "code",
   "execution_count": null,
   "metadata": {
    "colab": {
     "base_uri": "https://localhost:8080/",
     "height": 683,
     "referenced_widgets": [
      "89d78f693fc64eeebf31d356b326b815",
      "95e6bda9599e497cae497d7a7d79fb51",
      "f0e095d77a6a4af38db9b4b2c416eb2c",
      "6fccb2229ceb481b986e9fb492fc56f1"
     ]
    },
    "id": "RYmV1EcPmgXT",
    "outputId": "0e8d9e98-0d0c-4e07-fe52-76e6591c5e1f"
   },
   "outputs": [],
   "source": [
    "%matplotlib widget\n",
    "from google.colab import output\n",
    "output.enable_custom_widget_manager()\n",
    "bd_interactive(repertoire,use_web=False,high_dim=high_dim)"
   ]
  },
  {
   "cell_type": "code",
   "execution_count": null,
   "metadata": {
    "colab": {
     "base_uri": "https://localhost:8080/",
     "height": 535
    },
    "id": "fnOc2PVC-jUK",
    "outputId": "cdde3119-0de8-4cb1-fe24-3ca371acbd22"
   },
   "outputs": [],
   "source": [
    "print(\"Selected Individual: {}, with normalized BD {:.4f} and {:.4f}\".format(selected_ind,(selected_x)/100*30-15,selected_y/100*30-15))\n",
    "html_file = visualize_env(selected_ind,inference_fn,brax_task)\n",
    "display(HTML(html_file ))"
   ]
  },
  {
   "cell_type": "code",
   "execution_count": null,
   "metadata": {
    "id": "RgxeY6-m8AXA"
   },
   "outputs": [],
   "source": []
  }
 ],
 "metadata": {
  "accelerator": "GPU",
  "colab": {
   "collapsed_sections": [],
   "name": "Run QDax Example Notebook.ipynb",
   "provenance": []
  },
  "kernelspec": {
   "display_name": "Python 3 (ipykernel)",
   "language": "python",
   "name": "python3"
  },
  "language_info": {
   "codemirror_mode": {
    "name": "ipython",
    "version": 3
   },
   "file_extension": ".py",
   "mimetype": "text/x-python",
   "name": "python",
   "nbconvert_exporter": "python",
   "pygments_lexer": "ipython3",
   "version": "3.8.13"
  }
 },
 "nbformat": 4,
 "nbformat_minor": 1
}